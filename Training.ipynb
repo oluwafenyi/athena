{
 "cells": [
  {
   "cell_type": "code",
   "execution_count": 2,
   "id": "516c28c8-d722-44a8-874a-f5272b153fc3",
   "metadata": {},
   "outputs": [],
   "source": [
    "import pandas as pd\n",
    "import re\n",
    "import string\n",
    "import torch\n",
    "from tqdm.notebook import tqdm\n",
    "tqdm.pandas()\n",
    "from sklearn.model_selection import train_test_split"
   ]
  },
  {
   "cell_type": "code",
   "execution_count": 3,
   "id": "93c66e3f-3022-4c6f-8de5-b516ede1fac3",
   "metadata": {},
   "outputs": [],
   "source": [
    "df = pd.read_csv('./data/Train.csv' )"
   ]
  },
  {
   "cell_type": "code",
   "execution_count": 4,
   "id": "92e18f39-4248-4880-aa02-75b467fb2a29",
   "metadata": {},
   "outputs": [
    {
     "data": {
      "text/html": [
       "<div>\n",
       "<style scoped>\n",
       "    .dataframe tbody tr th:only-of-type {\n",
       "        vertical-align: middle;\n",
       "    }\n",
       "\n",
       "    .dataframe tbody tr th {\n",
       "        vertical-align: top;\n",
       "    }\n",
       "\n",
       "    .dataframe thead th {\n",
       "        text-align: right;\n",
       "    }\n",
       "</style>\n",
       "<table border=\"1\" class=\"dataframe\">\n",
       "  <thead>\n",
       "    <tr style=\"text-align: right;\">\n",
       "      <th></th>\n",
       "      <th>ID</th>\n",
       "      <th>Yoruba</th>\n",
       "      <th>English</th>\n",
       "    </tr>\n",
       "  </thead>\n",
       "  <tbody>\n",
       "    <tr>\n",
       "      <th>0</th>\n",
       "      <td>ID_AAJEQLCz</td>\n",
       "      <td>A ṣètò Ìgbìmọ̀ Tó Ń Ṣètò Ìrànwọ́ Nígbà Àjálù l...</td>\n",
       "      <td>A Disaster Relief Committee was formed to orga...</td>\n",
       "    </tr>\n",
       "    <tr>\n",
       "      <th>1</th>\n",
       "      <td>ID_AASNedba</td>\n",
       "      <td>Ìrọ̀lẹ́ May 22, 2018 ni wọ́n fàṣẹ ọba mú Arákù...</td>\n",
       "      <td>Brother Solovyev was arrested on the evening o...</td>\n",
       "    </tr>\n",
       "    <tr>\n",
       "      <th>2</th>\n",
       "      <td>ID_AAeQrhMq</td>\n",
       "      <td>Iléeṣẹ́ Creative Commons náà</td>\n",
       "      <td>Creative Commons the Organization</td>\n",
       "    </tr>\n",
       "    <tr>\n",
       "      <th>3</th>\n",
       "      <td>ID_AAxlMgPP</td>\n",
       "      <td>Pè̩lú Egypt, Morocco àti Tunisia tí wó̩n ti lo...</td>\n",
       "      <td>With Egypt, Morocco and Tunisia out of the Wor...</td>\n",
       "    </tr>\n",
       "    <tr>\n",
       "      <th>4</th>\n",
       "      <td>ID_ABKuMKSx</td>\n",
       "      <td>Adájọ́ àgbà lórílẹ̀ èdè Náíjíríà (Attorney Gen...</td>\n",
       "      <td>The Attorney General of the Federation, Justic...</td>\n",
       "    </tr>\n",
       "  </tbody>\n",
       "</table>\n",
       "</div>"
      ],
      "text/plain": [
       "            ID                                             Yoruba  \\\n",
       "0  ID_AAJEQLCz  A ṣètò Ìgbìmọ̀ Tó Ń Ṣètò Ìrànwọ́ Nígbà Àjálù l...   \n",
       "1  ID_AASNedba  Ìrọ̀lẹ́ May 22, 2018 ni wọ́n fàṣẹ ọba mú Arákù...   \n",
       "2  ID_AAeQrhMq                       Iléeṣẹ́ Creative Commons náà   \n",
       "3  ID_AAxlMgPP  Pè̩lú Egypt, Morocco àti Tunisia tí wó̩n ti lo...   \n",
       "4  ID_ABKuMKSx  Adájọ́ àgbà lórílẹ̀ èdè Náíjíríà (Attorney Gen...   \n",
       "\n",
       "                                             English  \n",
       "0  A Disaster Relief Committee was formed to orga...  \n",
       "1  Brother Solovyev was arrested on the evening o...  \n",
       "2                  Creative Commons the Organization  \n",
       "3  With Egypt, Morocco and Tunisia out of the Wor...  \n",
       "4  The Attorney General of the Federation, Justic...  "
      ]
     },
     "execution_count": 4,
     "metadata": {},
     "output_type": "execute_result"
    }
   ],
   "source": [
    "df.head()"
   ]
  },
  {
   "cell_type": "code",
   "execution_count": 5,
   "id": "dfd59695-b7bf-4785-aa77-7b1511f276a2",
   "metadata": {},
   "outputs": [],
   "source": [
    "# converting every letter to lower case\n",
    "df['Yoruba'] = df['Yoruba'].apply(lambda x: str(x).lower())\n",
    "df['English'] = df['English'].apply(lambda x: str(x).lower())"
   ]
  },
  {
   "cell_type": "code",
   "execution_count": 6,
   "id": "d64f6a78-bce1-45bb-a419-68f310d576ab",
   "metadata": {},
   "outputs": [
    {
     "data": {
      "text/html": [
       "<div>\n",
       "<style scoped>\n",
       "    .dataframe tbody tr th:only-of-type {\n",
       "        vertical-align: middle;\n",
       "    }\n",
       "\n",
       "    .dataframe tbody tr th {\n",
       "        vertical-align: top;\n",
       "    }\n",
       "\n",
       "    .dataframe thead th {\n",
       "        text-align: right;\n",
       "    }\n",
       "</style>\n",
       "<table border=\"1\" class=\"dataframe\">\n",
       "  <thead>\n",
       "    <tr style=\"text-align: right;\">\n",
       "      <th></th>\n",
       "      <th>ID</th>\n",
       "      <th>Yoruba</th>\n",
       "      <th>English</th>\n",
       "    </tr>\n",
       "  </thead>\n",
       "  <tbody>\n",
       "    <tr>\n",
       "      <th>0</th>\n",
       "      <td>ID_AAJEQLCz</td>\n",
       "      <td>a ṣètò ìgbìmọ̀ tó ń ṣètò ìrànwọ́ nígbà àjálù l...</td>\n",
       "      <td>a disaster relief committee was formed to orga...</td>\n",
       "    </tr>\n",
       "    <tr>\n",
       "      <th>1</th>\n",
       "      <td>ID_AASNedba</td>\n",
       "      <td>ìrọ̀lẹ́ may 22, 2018 ni wọ́n fàṣẹ ọba mú arákù...</td>\n",
       "      <td>brother solovyev was arrested on the evening o...</td>\n",
       "    </tr>\n",
       "    <tr>\n",
       "      <th>2</th>\n",
       "      <td>ID_AAeQrhMq</td>\n",
       "      <td>iléeṣẹ́ creative commons náà</td>\n",
       "      <td>creative commons the organization</td>\n",
       "    </tr>\n",
       "    <tr>\n",
       "      <th>3</th>\n",
       "      <td>ID_AAxlMgPP</td>\n",
       "      <td>pè̩lú egypt, morocco àti tunisia tí wó̩n ti lo...</td>\n",
       "      <td>with egypt, morocco and tunisia out of the wor...</td>\n",
       "    </tr>\n",
       "    <tr>\n",
       "      <th>4</th>\n",
       "      <td>ID_ABKuMKSx</td>\n",
       "      <td>adájọ́ àgbà lórílẹ̀ èdè náíjíríà (attorney gen...</td>\n",
       "      <td>the attorney general of the federation, justic...</td>\n",
       "    </tr>\n",
       "  </tbody>\n",
       "</table>\n",
       "</div>"
      ],
      "text/plain": [
       "            ID                                             Yoruba  \\\n",
       "0  ID_AAJEQLCz  a ṣètò ìgbìmọ̀ tó ń ṣètò ìrànwọ́ nígbà àjálù l...   \n",
       "1  ID_AASNedba  ìrọ̀lẹ́ may 22, 2018 ni wọ́n fàṣẹ ọba mú arákù...   \n",
       "2  ID_AAeQrhMq                       iléeṣẹ́ creative commons náà   \n",
       "3  ID_AAxlMgPP  pè̩lú egypt, morocco àti tunisia tí wó̩n ti lo...   \n",
       "4  ID_ABKuMKSx  adájọ́ àgbà lórílẹ̀ èdè náíjíríà (attorney gen...   \n",
       "\n",
       "                                             English  \n",
       "0  a disaster relief committee was formed to orga...  \n",
       "1  brother solovyev was arrested on the evening o...  \n",
       "2                  creative commons the organization  \n",
       "3  with egypt, morocco and tunisia out of the wor...  \n",
       "4  the attorney general of the federation, justic...  "
      ]
     },
     "execution_count": 6,
     "metadata": {},
     "output_type": "execute_result"
    }
   ],
   "source": [
    "df.head()"
   ]
  },
  {
   "cell_type": "code",
   "execution_count": 7,
   "id": "dedc3b6f-6ef3-4b91-9166-563439f82820",
   "metadata": {},
   "outputs": [],
   "source": [
    "# removing apostrophe from the sentences\n",
    "df['Yoruba'] = df['Yoruba'].apply(lambda x: re.sub(\"'\",\"\",x))\n",
    "df['English'] = df['English'].apply(lambda x: re.sub(\"'\",\"\",x))\n",
    "exclude = set(string.punctuation)"
   ]
  },
  {
   "cell_type": "code",
   "execution_count": 8,
   "id": "a6b21e46-8506-4150-83e7-7f856b39ffde",
   "metadata": {},
   "outputs": [
    {
     "data": {
      "text/html": [
       "<div>\n",
       "<style scoped>\n",
       "    .dataframe tbody tr th:only-of-type {\n",
       "        vertical-align: middle;\n",
       "    }\n",
       "\n",
       "    .dataframe tbody tr th {\n",
       "        vertical-align: top;\n",
       "    }\n",
       "\n",
       "    .dataframe thead th {\n",
       "        text-align: right;\n",
       "    }\n",
       "</style>\n",
       "<table border=\"1\" class=\"dataframe\">\n",
       "  <thead>\n",
       "    <tr style=\"text-align: right;\">\n",
       "      <th></th>\n",
       "      <th>ID</th>\n",
       "      <th>Yoruba</th>\n",
       "      <th>English</th>\n",
       "    </tr>\n",
       "  </thead>\n",
       "  <tbody>\n",
       "    <tr>\n",
       "      <th>0</th>\n",
       "      <td>ID_AAJEQLCz</td>\n",
       "      <td>a ṣètò ìgbìmọ̀ tó ń ṣètò ìrànwọ́ nígbà àjálù l...</td>\n",
       "      <td>a disaster relief committee was formed to orga...</td>\n",
       "    </tr>\n",
       "    <tr>\n",
       "      <th>1</th>\n",
       "      <td>ID_AASNedba</td>\n",
       "      <td>ìrọ̀lẹ́ may 22, 2018 ni wọ́n fàṣẹ ọba mú arákù...</td>\n",
       "      <td>brother solovyev was arrested on the evening o...</td>\n",
       "    </tr>\n",
       "    <tr>\n",
       "      <th>2</th>\n",
       "      <td>ID_AAeQrhMq</td>\n",
       "      <td>iléeṣẹ́ creative commons náà</td>\n",
       "      <td>creative commons the organization</td>\n",
       "    </tr>\n",
       "    <tr>\n",
       "      <th>3</th>\n",
       "      <td>ID_AAxlMgPP</td>\n",
       "      <td>pè̩lú egypt, morocco àti tunisia tí wó̩n ti lo...</td>\n",
       "      <td>with egypt, morocco and tunisia out of the wor...</td>\n",
       "    </tr>\n",
       "    <tr>\n",
       "      <th>4</th>\n",
       "      <td>ID_ABKuMKSx</td>\n",
       "      <td>adájọ́ àgbà lórílẹ̀ èdè náíjíríà (attorney gen...</td>\n",
       "      <td>the attorney general of the federation, justic...</td>\n",
       "    </tr>\n",
       "  </tbody>\n",
       "</table>\n",
       "</div>"
      ],
      "text/plain": [
       "            ID                                             Yoruba  \\\n",
       "0  ID_AAJEQLCz  a ṣètò ìgbìmọ̀ tó ń ṣètò ìrànwọ́ nígbà àjálù l...   \n",
       "1  ID_AASNedba  ìrọ̀lẹ́ may 22, 2018 ni wọ́n fàṣẹ ọba mú arákù...   \n",
       "2  ID_AAeQrhMq                       iléeṣẹ́ creative commons náà   \n",
       "3  ID_AAxlMgPP  pè̩lú egypt, morocco àti tunisia tí wó̩n ti lo...   \n",
       "4  ID_ABKuMKSx  adájọ́ àgbà lórílẹ̀ èdè náíjíríà (attorney gen...   \n",
       "\n",
       "                                             English  \n",
       "0  a disaster relief committee was formed to orga...  \n",
       "1  brother solovyev was arrested on the evening o...  \n",
       "2                  creative commons the organization  \n",
       "3  with egypt, morocco and tunisia out of the wor...  \n",
       "4  the attorney general of the federation, justic...  "
      ]
     },
     "execution_count": 8,
     "metadata": {},
     "output_type": "execute_result"
    }
   ],
   "source": [
    "df.head()"
   ]
  },
  {
   "cell_type": "code",
   "execution_count": 9,
   "id": "5a81fff8-142b-446d-8ca4-a91d9098aba8",
   "metadata": {},
   "outputs": [],
   "source": [
    "# removing digits from the sentences\n",
    "digit = str.maketrans('','',string.digits)\n",
    "df['Yoruba'] = df['Yoruba'].apply(lambda x: x.translate(digit))\n",
    "df['English'] = df['English'].apply(lambda x: x.translate(digit))"
   ]
  },
  {
   "cell_type": "code",
   "execution_count": 10,
   "id": "7fd5248f-492d-44a2-9943-3b5dd5ecf7c7",
   "metadata": {},
   "outputs": [
    {
     "data": {
      "text/html": [
       "<div>\n",
       "<style scoped>\n",
       "    .dataframe tbody tr th:only-of-type {\n",
       "        vertical-align: middle;\n",
       "    }\n",
       "\n",
       "    .dataframe tbody tr th {\n",
       "        vertical-align: top;\n",
       "    }\n",
       "\n",
       "    .dataframe thead th {\n",
       "        text-align: right;\n",
       "    }\n",
       "</style>\n",
       "<table border=\"1\" class=\"dataframe\">\n",
       "  <thead>\n",
       "    <tr style=\"text-align: right;\">\n",
       "      <th></th>\n",
       "      <th>ID</th>\n",
       "      <th>Yoruba</th>\n",
       "      <th>English</th>\n",
       "    </tr>\n",
       "  </thead>\n",
       "  <tbody>\n",
       "    <tr>\n",
       "      <th>0</th>\n",
       "      <td>ID_AAJEQLCz</td>\n",
       "      <td>a ṣètò ìgbìmọ̀ tó ń ṣètò ìrànwọ́ nígbà àjálù l...</td>\n",
       "      <td>a disaster relief committee was formed to orga...</td>\n",
       "    </tr>\n",
       "    <tr>\n",
       "      <th>1</th>\n",
       "      <td>ID_AASNedba</td>\n",
       "      <td>ìrọ̀lẹ́ may ,  ni wọ́n fàṣẹ ọba mú arákùnrin s...</td>\n",
       "      <td>brother solovyev was arrested on the evening o...</td>\n",
       "    </tr>\n",
       "    <tr>\n",
       "      <th>2</th>\n",
       "      <td>ID_AAeQrhMq</td>\n",
       "      <td>iléeṣẹ́ creative commons náà</td>\n",
       "      <td>creative commons the organization</td>\n",
       "    </tr>\n",
       "    <tr>\n",
       "      <th>3</th>\n",
       "      <td>ID_AAxlMgPP</td>\n",
       "      <td>pè̩lú egypt, morocco àti tunisia tí wó̩n ti lo...</td>\n",
       "      <td>with egypt, morocco and tunisia out of the wor...</td>\n",
       "    </tr>\n",
       "    <tr>\n",
       "      <th>4</th>\n",
       "      <td>ID_ABKuMKSx</td>\n",
       "      <td>adájọ́ àgbà lórílẹ̀ èdè náíjíríà (attorney gen...</td>\n",
       "      <td>the attorney general of the federation, justic...</td>\n",
       "    </tr>\n",
       "  </tbody>\n",
       "</table>\n",
       "</div>"
      ],
      "text/plain": [
       "            ID                                             Yoruba  \\\n",
       "0  ID_AAJEQLCz  a ṣètò ìgbìmọ̀ tó ń ṣètò ìrànwọ́ nígbà àjálù l...   \n",
       "1  ID_AASNedba  ìrọ̀lẹ́ may ,  ni wọ́n fàṣẹ ọba mú arákùnrin s...   \n",
       "2  ID_AAeQrhMq                       iléeṣẹ́ creative commons náà   \n",
       "3  ID_AAxlMgPP  pè̩lú egypt, morocco àti tunisia tí wó̩n ti lo...   \n",
       "4  ID_ABKuMKSx  adájọ́ àgbà lórílẹ̀ èdè náíjíríà (attorney gen...   \n",
       "\n",
       "                                             English  \n",
       "0  a disaster relief committee was formed to orga...  \n",
       "1  brother solovyev was arrested on the evening o...  \n",
       "2                  creative commons the organization  \n",
       "3  with egypt, morocco and tunisia out of the wor...  \n",
       "4  the attorney general of the federation, justic...  "
      ]
     },
     "execution_count": 10,
     "metadata": {},
     "output_type": "execute_result"
    }
   ],
   "source": [
    "df.head()"
   ]
  },
  {
   "cell_type": "code",
   "execution_count": 11,
   "id": "462ad4e5-43a1-4fbd-8d2a-4c77578ece55",
   "metadata": {},
   "outputs": [],
   "source": [
    "# using pretrained model and then finetuning it on our dataset\n",
    "from transformers import AutoTokenizer, AutoModelForSeq2SeqLM\n",
    "tokenizer = AutoTokenizer.from_pretrained(\"Helsinki-NLP/opus-mt-mul-en\")\n",
    "model = AutoModelForSeq2SeqLM.from_pretrained(\"Helsinki-NLP/opus-mt-mul-en\")"
   ]
  },
  {
   "cell_type": "code",
   "execution_count": 12,
   "id": "985c4d68-fbe6-4f6e-89a3-e561ecf5aa65",
   "metadata": {},
   "outputs": [],
   "source": [
    "# optimize model for training, set learning rate to 0.0001\n",
    "optimizer = torch.optim.AdamW(model.parameters(),lr=0.0001)"
   ]
  },
  {
   "cell_type": "code",
   "execution_count": 13,
   "id": "79bbd0a5-ea6c-4cb0-a31a-ed3c62de5b50",
   "metadata": {},
   "outputs": [],
   "source": [
    "def train_model():\n",
    "    model.train()\n",
    "    losses = 0\n",
    "    X = df['Yoruba']\n",
    "    y = df['English']\n",
    "    max_epochs = 27\n",
    "    n_batches = 32\n",
    "    for epoch in tqdm(range(max_epochs)):\n",
    "        for i in tqdm(range(125)):\n",
    "            # making batches \n",
    "            local_X, local_y = X[i*n_batches:(i+1)*n_batches,], y[i*n_batches:(i+1)*n_batches,]\n",
    "            # preparing the data according to the model input\n",
    "            batch = tokenizer.prepare_seq2seq_batch(list(local_X),list(local_y),return_tensors='pt')\n",
    "            output = model(**batch)\n",
    "            # loss can be taken directly from the model output\n",
    "            loss = output.loss\n",
    "            optimizer.zero_grad()\n",
    "            loss.backward()\n",
    "            optimizer.step()\n",
    "            losses = losses+loss\n",
    "    average = losses/len(df)\n",
    "    print('Loss: ' + str(average) )\n",
    "    \n",
    "    return model\n"
   ]
  },
  {
   "cell_type": "code",
   "execution_count": null,
   "id": "9349d205-4cdc-495e-bf42-7949e9efcb7f",
   "metadata": {},
   "outputs": [
    {
     "data": {
      "application/vnd.jupyter.widget-view+json": {
       "model_id": "770de409e1044f6e9d0c45cc22739f88",
       "version_major": 2,
       "version_minor": 0
      },
      "text/plain": [
       "  0%|          | 0/27 [00:00<?, ?it/s]"
      ]
     },
     "metadata": {},
     "output_type": "display_data"
    },
    {
     "data": {
      "application/vnd.jupyter.widget-view+json": {
       "model_id": "bea742d42cfa4abcaffd86ee722a9304",
       "version_major": 2,
       "version_minor": 0
      },
      "text/plain": [
       "  0%|          | 0/125 [00:00<?, ?it/s]"
      ]
     },
     "metadata": {},
     "output_type": "display_data"
    },
    {
     "name": "stderr",
     "output_type": "stream",
     "text": [
      "/Users/enyiomaosondu/personal/final-year-project/env/lib/python3.10/site-packages/transformers/tokenization_utils_base.py:4018: FutureWarning: \n",
      "`prepare_seq2seq_batch` is deprecated and will be removed in version 5 of HuggingFace Transformers. Use the regular\n",
      "`__call__` method to prepare your inputs and targets.\n",
      "\n",
      "Here is a short example:\n",
      "\n",
      "model_inputs = tokenizer(src_texts, text_target=tgt_texts, ...)\n",
      "\n",
      "If you either need to use different keyword arguments for the source and target texts, you should do two calls like\n",
      "this:\n",
      "\n",
      "model_inputs = tokenizer(src_texts, ...)\n",
      "labels = tokenizer(text_target=tgt_texts, ...)\n",
      "model_inputs[\"labels\"] = labels[\"input_ids\"]\n",
      "\n",
      "See the documentation of your specific tokenizer for more details on the specific arguments to the tokenizer of choice.\n",
      "For a more complete example, see the implementation of `prepare_seq2seq_batch`.\n",
      "\n",
      "  warnings.warn(formatted_warning, FutureWarning)\n",
      "/Users/enyiomaosondu/personal/final-year-project/env/lib/python3.10/site-packages/transformers/tokenization_utils_base.py:3892: UserWarning: `as_target_tokenizer` is deprecated and will be removed in v5 of Transformers. You can tokenize your labels by using the argument `text_target` of the regular `__call__` method (either in the same call as your input texts if you use the same keyword arguments, or in a separate call.\n",
      "  warnings.warn(\n"
     ]
    },
    {
     "data": {
      "application/vnd.jupyter.widget-view+json": {
       "model_id": "d93a3074b3174853a80c92ef09574b6c",
       "version_major": 2,
       "version_minor": 0
      },
      "text/plain": [
       "  0%|          | 0/125 [00:00<?, ?it/s]"
      ]
     },
     "metadata": {},
     "output_type": "display_data"
    },
    {
     "data": {
      "application/vnd.jupyter.widget-view+json": {
       "model_id": "8f22ce68356b4fa9a33c893bc9c229a5",
       "version_major": 2,
       "version_minor": 0
      },
      "text/plain": [
       "  0%|          | 0/125 [00:00<?, ?it/s]"
      ]
     },
     "metadata": {},
     "output_type": "display_data"
    }
   ],
   "source": [
    "model = train_model()"
   ]
  },
  {
   "cell_type": "code",
   "execution_count": null,
   "id": "cb025015-6d27-4d1c-a541-c90d8cd58c28",
   "metadata": {},
   "outputs": [],
   "source": []
  }
 ],
 "metadata": {
  "kernelspec": {
   "display_name": "Python 3 (ipykernel)",
   "language": "python",
   "name": "python3"
  },
  "language_info": {
   "codemirror_mode": {
    "name": "ipython",
    "version": 3
   },
   "file_extension": ".py",
   "mimetype": "text/x-python",
   "name": "python",
   "nbconvert_exporter": "python",
   "pygments_lexer": "ipython3",
   "version": "3.10.0"
  }
 },
 "nbformat": 4,
 "nbformat_minor": 5
}
